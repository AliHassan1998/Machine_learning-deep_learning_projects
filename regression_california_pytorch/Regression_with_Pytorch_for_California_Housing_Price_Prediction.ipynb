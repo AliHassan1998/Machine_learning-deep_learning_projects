{
  "nbformat": 4,
  "nbformat_minor": 0,
  "metadata": {
    "colab": {
      "provenance": [],
      "gpuType": "T4"
    },
    "kernelspec": {
      "name": "python3",
      "display_name": "Python 3"
    },
    "language_info": {
      "name": "python"
    },
    "accelerator": "GPU"
  },
  "cells": [
    {
      "cell_type": "code",
      "execution_count": null,
      "metadata": {
        "id": "jY7Dg7fxTix-"
      },
      "outputs": [],
      "source": [
        "import torch\n",
        "import torch.nn as nn\n",
        "import torch.optim as optim\n",
        "from sklearn.datasets import fetch_california_housing\n",
        "from sklearn.model_selection import train_test_split\n",
        "from sklearn.preprocessing import StandardScaler\n",
        "from sklearn.metrics import mean_squared_error\n",
        "import pandas as pd"
      ]
    },
    {
      "cell_type": "code",
      "source": [
        "data = fetch_california_housing()\n",
        "X = data.data\n",
        "y = data.target"
      ],
      "metadata": {
        "id": "y89vUs1sW6eh"
      },
      "execution_count": null,
      "outputs": []
    },
    {
      "cell_type": "code",
      "source": [
        "X_df = pd.DataFrame(X, columns = data.feature_names)\n",
        "print(\"California Housing Data: \")\n",
        "print(X_df.head())"
      ],
      "metadata": {
        "colab": {
          "base_uri": "https://localhost:8080/"
        },
        "id": "FfZopO8JXH4O",
        "outputId": "6148d368-3d7c-4705-9322-25c363af5c75"
      },
      "execution_count": null,
      "outputs": [
        {
          "output_type": "stream",
          "name": "stdout",
          "text": [
            "California Housing Data: \n",
            "   MedInc  HouseAge  AveRooms  ...  AveOccup  Latitude  Longitude\n",
            "0  8.3252      41.0  6.984127  ...  2.555556     37.88    -122.23\n",
            "1  8.3014      21.0  6.238137  ...  2.109842     37.86    -122.22\n",
            "2  7.2574      52.0  8.288136  ...  2.802260     37.85    -122.24\n",
            "3  5.6431      52.0  5.817352  ...  2.547945     37.85    -122.25\n",
            "4  3.8462      52.0  6.281853  ...  2.181467     37.85    -122.25\n",
            "\n",
            "[5 rows x 8 columns]\n"
          ]
        }
      ]
    },
    {
      "cell_type": "code",
      "source": [
        "y_df = pd.DataFrame(y, columns = [\"target\"])\n",
        "print(\"\\nCalifornia Housing Target: \")\n",
        "print(y_df.head())"
      ],
      "metadata": {
        "colab": {
          "base_uri": "https://localhost:8080/"
        },
        "id": "nOq6x3SVXd1x",
        "outputId": "e3c37de2-484d-4942-a727-d1a58df0c9b1"
      },
      "execution_count": null,
      "outputs": [
        {
          "output_type": "stream",
          "name": "stdout",
          "text": [
            "\n",
            "California Housing Target: \n",
            "   target\n",
            "0   4.526\n",
            "1   3.585\n",
            "2   3.521\n",
            "3   3.413\n",
            "4   3.422\n"
          ]
        }
      ]
    },
    {
      "cell_type": "code",
      "source": [
        "X_train, X_test, y_train, y_test = train_test_split(X, y, test_size = 0.2, random_state = 42)"
      ],
      "metadata": {
        "id": "RjDH66GnXuTv"
      },
      "execution_count": null,
      "outputs": []
    },
    {
      "cell_type": "code",
      "source": [
        "scaler = StandardScaler()\n",
        "X_train = scaler.fit_transform(X_train)\n",
        "X_test = scaler.transform(X_test)\n",
        "print(X_train)"
      ],
      "metadata": {
        "colab": {
          "base_uri": "https://localhost:8080/"
        },
        "id": "8s5Nyqa_YA-E",
        "outputId": "b876adaa-d553-4a8b-f55a-d60117ee7360"
      },
      "execution_count": null,
      "outputs": [
        {
          "output_type": "stream",
          "name": "stdout",
          "text": [
            "[[-0.326196    0.34849025 -0.17491646 ...  0.05137609 -1.3728112\n",
            "   1.27258656]\n",
            " [-0.03584338  1.61811813 -0.40283542 ... -0.11736222 -0.87669601\n",
            "   0.70916212]\n",
            " [ 0.14470145 -1.95271028  0.08821601 ... -0.03227969 -0.46014647\n",
            "  -0.44760309]\n",
            " ...\n",
            " [-0.49697313  0.58654547 -0.60675918 ...  0.02030568 -0.75500738\n",
            "   0.59946887]\n",
            " [ 0.96545045 -1.07984112  0.40217517 ...  0.00707608  0.90651045\n",
            "  -1.18553953]\n",
            " [-0.68544764  1.85617335 -0.85144571 ... -0.08535429  0.99543676\n",
            "  -1.41489815]]\n"
          ]
        }
      ]
    },
    {
      "cell_type": "code",
      "source": [
        "X_train = torch.FloatTensor(X_train)\n",
        "y_train = torch.FloatTensor(y_train)\n",
        "X_test = torch.FloatTensor(X_test)\n",
        "y_test = torch.FloatTensor(y_test)\n",
        "print(X_train)"
      ],
      "metadata": {
        "colab": {
          "base_uri": "https://localhost:8080/"
        },
        "id": "yBxbXsHxYUnW",
        "outputId": "268d57ad-9a06-4703-dcbd-dd0079bddcd9"
      },
      "execution_count": null,
      "outputs": [
        {
          "output_type": "stream",
          "name": "stdout",
          "text": [
            "tensor([[-0.3262,  0.3485, -0.1749,  ...,  0.0514, -1.3728,  1.2726],\n",
            "        [-0.0358,  1.6181, -0.4028,  ..., -0.1174, -0.8767,  0.7092],\n",
            "        [ 0.1447, -1.9527,  0.0882,  ..., -0.0323, -0.4601, -0.4476],\n",
            "        ...,\n",
            "        [-0.4970,  0.5865, -0.6068,  ...,  0.0203, -0.7550,  0.5995],\n",
            "        [ 0.9655, -1.0798,  0.4022,  ...,  0.0071,  0.9065, -1.1855],\n",
            "        [-0.6854,  1.8562, -0.8514,  ..., -0.0854,  0.9954, -1.4149]])\n"
          ]
        }
      ]
    },
    {
      "cell_type": "code",
      "source": [
        "class RegressionModel(nn.Module):\n",
        "  def __init__(self, input_size):\n",
        "    super(RegressionModel, self).__init__()\n",
        "    self.fc1 = nn.Linear(input_size, 64)\n",
        "    self.relu = nn.ReLU()\n",
        "    self.fc2 = nn.Linear(64, 128)\n",
        "    self.relu = nn.ReLU()\n",
        "    self.fc3 = nn.Linear(128, 10)\n",
        "    self.relu = nn.ReLU()\n",
        "    self.fc4 = nn.Linear(10, 1)\n",
        "\n",
        "  def forward(self, x):\n",
        "    x = self.fc1(x)\n",
        "    x = self.relu(x)\n",
        "    x = self.fc2(x)\n",
        "    x = self.relu(x)\n",
        "    x = self.fc3(x)\n",
        "    x = self.relu(x)\n",
        "    x = self.fc4(x)\n",
        "    return x"
      ],
      "metadata": {
        "id": "MnXn1A2wYynR"
      },
      "execution_count": null,
      "outputs": []
    },
    {
      "cell_type": "code",
      "source": [
        "input_size = X_train.shape[1]\n",
        "print(input_size)\n",
        "model = RegressionModel(input_size)\n",
        "print(model)"
      ],
      "metadata": {
        "colab": {
          "base_uri": "https://localhost:8080/"
        },
        "id": "YxxRCBOXZt9D",
        "outputId": "3edc84be-90dd-43be-b6ef-baf6f02275fe"
      },
      "execution_count": null,
      "outputs": [
        {
          "output_type": "stream",
          "name": "stdout",
          "text": [
            "8\n",
            "RegressionModel(\n",
            "  (fc1): Linear(in_features=8, out_features=64, bias=True)\n",
            "  (relu): ReLU()\n",
            "  (fc2): Linear(in_features=64, out_features=128, bias=True)\n",
            "  (fc3): Linear(in_features=128, out_features=10, bias=True)\n",
            "  (fc4): Linear(in_features=10, out_features=1, bias=True)\n",
            ")\n"
          ]
        }
      ]
    },
    {
      "cell_type": "code",
      "source": [
        "Lossf = nn.MSELoss()\n",
        "optimizer = optim.SGD(model.parameters(), lr = 0.001)"
      ],
      "metadata": {
        "id": "waGC-HRzaC4G"
      },
      "execution_count": null,
      "outputs": []
    },
    {
      "cell_type": "code",
      "source": [
        "num_epochs = 500\n",
        "for epoch in range(num_epochs):\n",
        "  outputs = model(X_train)\n",
        "  loss = Lossf(outputs, y_train.view(-1, 1))\n",
        "  optimizer.zero_grad()\n",
        "  loss.backward()\n",
        "  optimizer.step()\n",
        "  if (epoch + 1) % 10 == 0:\n",
        "    print(f\"Epoch [{epoch + 1}/{num_epochs}], Loss: {loss.item():.4f}\")"
      ],
      "metadata": {
        "colab": {
          "base_uri": "https://localhost:8080/"
        },
        "id": "Hk0WrzAxaQxD",
        "outputId": "bcd4ccb7-5c46-40df-88d8-0cbefecd39f1"
      },
      "execution_count": null,
      "outputs": [
        {
          "output_type": "stream",
          "name": "stdout",
          "text": [
            "Epoch [10/500], Loss: 0.7564\n",
            "Epoch [20/500], Loss: 0.7520\n",
            "Epoch [30/500], Loss: 0.7477\n",
            "Epoch [40/500], Loss: 0.7435\n",
            "Epoch [50/500], Loss: 0.7395\n",
            "Epoch [60/500], Loss: 0.7356\n",
            "Epoch [70/500], Loss: 0.7318\n",
            "Epoch [80/500], Loss: 0.7282\n",
            "Epoch [90/500], Loss: 0.7248\n",
            "Epoch [100/500], Loss: 0.7214\n",
            "Epoch [110/500], Loss: 0.7182\n",
            "Epoch [120/500], Loss: 0.7151\n",
            "Epoch [130/500], Loss: 0.7122\n",
            "Epoch [140/500], Loss: 0.7093\n",
            "Epoch [150/500], Loss: 0.7065\n",
            "Epoch [160/500], Loss: 0.7039\n",
            "Epoch [170/500], Loss: 0.7013\n",
            "Epoch [180/500], Loss: 0.6989\n",
            "Epoch [190/500], Loss: 0.6966\n",
            "Epoch [200/500], Loss: 0.6943\n",
            "Epoch [210/500], Loss: 0.6922\n",
            "Epoch [220/500], Loss: 0.6901\n",
            "Epoch [230/500], Loss: 0.6881\n",
            "Epoch [240/500], Loss: 0.6863\n",
            "Epoch [250/500], Loss: 0.6845\n",
            "Epoch [260/500], Loss: 0.6828\n",
            "Epoch [270/500], Loss: 0.6811\n",
            "Epoch [280/500], Loss: 0.6794\n",
            "Epoch [290/500], Loss: 0.6779\n",
            "Epoch [300/500], Loss: 0.6764\n",
            "Epoch [310/500], Loss: 0.6749\n",
            "Epoch [320/500], Loss: 0.6735\n",
            "Epoch [330/500], Loss: 0.6721\n",
            "Epoch [340/500], Loss: 0.6707\n",
            "Epoch [350/500], Loss: 0.6694\n",
            "Epoch [360/500], Loss: 0.6682\n",
            "Epoch [370/500], Loss: 0.6669\n",
            "Epoch [380/500], Loss: 0.6657\n",
            "Epoch [390/500], Loss: 0.6645\n",
            "Epoch [400/500], Loss: 0.6634\n",
            "Epoch [410/500], Loss: 0.6623\n",
            "Epoch [420/500], Loss: 0.6612\n",
            "Epoch [430/500], Loss: 0.6601\n",
            "Epoch [440/500], Loss: 0.6591\n",
            "Epoch [450/500], Loss: 0.6580\n",
            "Epoch [460/500], Loss: 0.6570\n",
            "Epoch [470/500], Loss: 0.6560\n",
            "Epoch [480/500], Loss: 0.6551\n",
            "Epoch [490/500], Loss: 0.6541\n",
            "Epoch [500/500], Loss: 0.6532\n"
          ]
        }
      ]
    },
    {
      "cell_type": "code",
      "source": [
        "torch.save(model.state_dict(), \"california_housing_model.pth\")"
      ],
      "metadata": {
        "id": "XhX9pIHpboLT"
      },
      "execution_count": null,
      "outputs": []
    },
    {
      "cell_type": "code",
      "source": [
        "loaded_model = RegressionModel(input_size)\n",
        "loaded_model.load_state_dict(torch.load(\"california_housing_model.pth\"))"
      ],
      "metadata": {
        "colab": {
          "base_uri": "https://localhost:8080/"
        },
        "id": "7rzMRTG7cP5H",
        "outputId": "bb0602ee-7356-4fe4-c797-86251e429d53"
      },
      "execution_count": null,
      "outputs": [
        {
          "output_type": "execute_result",
          "data": {
            "text/plain": [
              "<All keys matched successfully>"
            ]
          },
          "metadata": {},
          "execution_count": 21
        }
      ]
    },
    {
      "cell_type": "code",
      "source": [
        "with torch.no_grad():\n",
        "  y_pred = loaded_model(X_test)\n",
        "  mse = mean_squared_error(y_test.numpy(), y_pred.numpy())\n",
        "  print(f\"Mean Squared Error on Test Data (Loaded Data): {mse:.4f}\")"
      ],
      "metadata": {
        "colab": {
          "base_uri": "https://localhost:8080/"
        },
        "id": "cVntkS2EcqQ6",
        "outputId": "1e7d0842-5dd8-4f09-fdf5-20093a7eb42b"
      },
      "execution_count": null,
      "outputs": [
        {
          "output_type": "stream",
          "name": "stdout",
          "text": [
            "Mean Squared Error on Test Data (Loaded Data): 0.6690\n"
          ]
        }
      ]
    }
  ]
}